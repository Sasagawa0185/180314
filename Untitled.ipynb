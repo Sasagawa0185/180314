{
 "cells": [
  {
   "cell_type": "code",
   "execution_count": 23,
   "metadata": {},
   "outputs": [],
   "source": [
    "import numpy as np\n",
    "import pandas as pd\n",
    "import matplotlib.pyplot as plt\n",
    "% matplotlib inline"
   ]
  },
  {
   "cell_type": "code",
   "execution_count": 24,
   "metadata": {},
   "outputs": [
    {
     "name": "stdout",
     "output_type": "stream",
     "text": [
      "Collecting opencv-python\n",
      "  Downloading opencv_python-3.4.0.12-cp36-cp36m-macosx_10_6_intel.macosx_10_9_intel.macosx_10_9_x86_64.macosx_10_10_intel.macosx_10_10_x86_64.whl (41.2MB)\n",
      "\u001b[K    100% |████████████████████████████████| 41.2MB 37kB/s  eta 0:00:011\n",
      "\u001b[?25hRequirement already satisfied: numpy>=1.11.1 in /Users/sasagawashun/.pyenv/versions/anaconda3-5.0.1/lib/python3.6/site-packages (from opencv-python)\n",
      "Installing collected packages: opencv-python\n",
      "Successfully installed opencv-python-3.4.0.12\n"
     ]
    }
   ],
   "source": [
    "! pip install opencv-python"
   ]
  },
  {
   "cell_type": "code",
   "execution_count": 2,
   "metadata": {},
   "outputs": [
    {
     "name": "stdout",
     "output_type": "stream",
     "text": [
      "Collecting chainer==2.0\n",
      "  Downloading chainer-2.0.0.tar.gz (318kB)\n",
      "\u001b[K    100% |████████████████████████████████| 327kB 2.8MB/s ta 0:00:01\n",
      "\u001b[?25hCollecting filelock (from chainer==2.0)\n",
      "  Downloading filelock-3.0.4.tar.gz\n",
      "Requirement already up-to-date: nose in /Users/sasagawashun/.pyenv/versions/anaconda3-5.0.1/lib/python3.6/site-packages (from chainer==2.0)\n",
      "Collecting numpy>=1.9.0 (from chainer==2.0)\n",
      "  Downloading numpy-1.14.2-cp36-cp36m-macosx_10_6_intel.macosx_10_9_intel.macosx_10_9_x86_64.macosx_10_10_intel.macosx_10_10_x86_64.whl (4.7MB)\n",
      "\u001b[K    100% |████████████████████████████████| 4.7MB 330kB/s eta 0:00:01\n",
      "\u001b[?25hCollecting protobuf>=2.6.0 (from chainer==2.0)\n",
      "  Downloading protobuf-3.5.2-cp36-cp36m-macosx_10_6_intel.macosx_10_9_intel.macosx_10_9_x86_64.macosx_10_10_intel.macosx_10_10_x86_64.whl (1.2MB)\n",
      "\u001b[K    100% |████████████████████████████████| 1.2MB 1.1MB/s eta 0:00:01\n",
      "\u001b[?25hRequirement already up-to-date: six>=1.9.0 in /Users/sasagawashun/.pyenv/versions/anaconda3-5.0.1/lib/python3.6/site-packages (from chainer==2.0)\n",
      "Collecting setuptools (from protobuf>=2.6.0->chainer==2.0)\n",
      "  Downloading setuptools-38.5.2-py2.py3-none-any.whl (490kB)\n",
      "\u001b[K    100% |████████████████████████████████| 491kB 2.2MB/s eta 0:00:01\n",
      "\u001b[?25hBuilding wheels for collected packages: chainer, filelock\n",
      "  Running setup.py bdist_wheel for chainer ... \u001b[?25ldone\n",
      "\u001b[?25h  Stored in directory: /Users/sasagawashun/Library/Caches/pip/wheels/89/56/eb/e821cea4cd834b24428e29eb9b62e0c0c27c2fc6c987995ffc\n",
      "  Running setup.py bdist_wheel for filelock ... \u001b[?25ldone\n",
      "\u001b[?25h  Stored in directory: /Users/sasagawashun/Library/Caches/pip/wheels/5f/5e/8a/9f1eb481ffbfff95d5f550570c1dbeff3c1785c8383c12c62b\n",
      "Successfully built chainer filelock\n",
      "Installing collected packages: filelock, numpy, setuptools, protobuf, chainer\n",
      "  Found existing installation: filelock 2.0.12\n",
      "\u001b[31m    DEPRECATION: Uninstalling a distutils installed project (filelock) has been deprecated and will be removed in a future version. This is due to the fact that uninstalling a distutils project will only partially uninstall the project.\u001b[0m\n",
      "    Uninstalling filelock-2.0.12:\n",
      "      Successfully uninstalled filelock-2.0.12\n",
      "  Found existing installation: numpy 1.13.3\n",
      "    Uninstalling numpy-1.13.3:\n",
      "      Successfully uninstalled numpy-1.13.3\n",
      "  Found existing installation: setuptools 36.5.0.post20170921\n",
      "    Uninstalling setuptools-36.5.0.post20170921:\n",
      "      Successfully uninstalled setuptools-36.5.0.post20170921\n",
      "Successfully installed chainer-2.0.0 filelock-3.0.4 numpy-1.14.2 protobuf-3.5.2 setuptools-38.5.2\n"
     ]
    }
   ],
   "source": [
    "! pip install -U chainer==2.0"
   ]
  },
  {
   "cell_type": "code",
   "execution_count": 25,
   "metadata": {},
   "outputs": [],
   "source": [
    "import chainer\n",
    "import chainer.functions as F           # パラメータを含まない関数を収録したパッケージ\n",
    "import chainer.links as L               # パラメータを含む関数を収録したパッケージ\n",
    "from chainer import computational_graph # グラフを出力するパッケージ\n",
    "from chainer import serializers         # モデルの保存や読込を行うパッケージ\n",
    "import cv2"
   ]
  },
  {
   "cell_type": "code",
   "execution_count": 27,
   "metadata": {},
   "outputs": [],
   "source": [
    "images=[]\n",
    "for i in range(1, 1585):\n",
    "    image = cv2.imread(\"/Users/sasagawashun/images2/%d.jpg\"%i) #images2から取り出す\n",
    "    grayed = cv2.cvtColor(image, cv2.COLOR_BGR2GRAY)\n",
    "    images.append(grayed) #imagesに格納する\n",
    "\n",
    "def resize_image(img):\n",
    "    end_size = 32\n",
    "    max_ = np.maximum(img.shape[0], img.shape[1])\n",
    "    scale = end_size / max_\n",
    "    height, width = img.shape\n",
    "    size = (int(width*scale), int(height*scale))\n",
    "\n",
    "    rescale_image = cv2.resize(img, size, interpolation=cv2.INTER_CUBIC)\n",
    "\n",
    "    height, width = rescale_image.shape\n",
    "\n",
    "    if width > height:\n",
    "        z_pad = np.zeros([int((width-height)/2), width], dtype=np.uint8)\n",
    "        end_image = np.vstack((z_pad, rescale_image, z_pad))\n",
    "    else:\n",
    "        z_pad = np.zeros([height, int((height - width)/2)], dtype=np.uint8)\n",
    "        end_image = np.hstack((z_pad, rescale_image, z_pad))\n",
    "\n",
    "    end_image = cv2.resize(end_image, (end_size, end_size))\n",
    "\n",
    "    return end_image\n",
    "\n",
    "for i,img in enumerate(images):\n",
    "    cv2.imwrite(\"/Users/sasagawashun/images/%d.jpg\"%(i+1), resize_image(img)) #imagesというフォルダに画像を格納する\n"
   ]
  },
  {
   "cell_type": "code",
   "execution_count": 30,
   "metadata": {},
   "outputs": [
    {
     "name": "stderr",
     "output_type": "stream",
     "text": [
      "/Users/sasagawashun/.pyenv/versions/anaconda3-5.0.1/lib/python3.6/site-packages/sklearn/cross_validation.py:41: DeprecationWarning: This module was deprecated in version 0.18 in favor of the model_selection module into which all the refactored classes and functions are moved. Also note that the interface of the new CV iterators are different from that of this module. This module will be removed in 0.20.\n",
      "  \"This module will be removed in 0.20.\", DeprecationWarning)\n"
     ]
    }
   ],
   "source": [
    "#Kaggleにあるtrain.csvをダウンロードし、それを読み込ませる\n",
    "#(train.csvにはラベルのついているものしかないから)\n",
    "train = pd.read_csv(\"/Users/sasagawashun/train.csv\")\n",
    "labels=train[\"species\"].values\n",
    "\n",
    "#labelsは今文字列が入っているので、それをscikit-learnの関数を使って数字のラベルに変える\n",
    "from sklearn import preprocessing\n",
    "le = preprocessing.LabelEncoder()\n",
    "le.fit(labels)\n",
    "labels = le.transform(labels)\n",
    "labels = labels.astype(np.int32)\n",
    "\n",
    "#imagesフォルダから、train.csvのidカラムから、リサイズされた画像を持ってくる。\n",
    "resized_images = []\n",
    "for i in train.id:\n",
    "    image = cv2.imread(\"/Users/sasagawashun/images/%d.jpg\"%i)\n",
    "    grayed = cv2.cvtColor(image, cv2.COLOR_BGR2GRAY)\n",
    "    resized_images.append(grayed)\n",
    "\n",
    "#chainerで読み込ませられる型に変換する。\n",
    "resized_images = np.array([resized_images])\n",
    "resized_images = resized_images.reshape(-1, 1024).astype(np.float32)\n",
    "resized_images /=255 #0~255のデータを0~1のデータに変える\n",
    "\n",
    "#train_test_splitはscikit-learnのバージョンが新しければ、cross_validationではなくmodel_selectionの中に入っている。\n",
    "#画像の行列データとラベルデータから、トレーニング用のデータセットを作成する。\n",
    "from sklearn.cross_validation import train_test_split \n",
    "X_train, X_test, y_train, y_test = train_test_split(resized_images, labels, test_size=0.2, random_state=0)\n",
    "\n",
    "#後で使用する数字を指定しておく。\n",
    "N_train = y_train.size\n",
    "N_test = y_test.size"
   ]
  },
  {
   "cell_type": "code",
   "execution_count": null,
   "metadata": {
    "collapsed": true
   },
   "outputs": [],
   "source": [
    "class CNN(chainer.Chain):\n",
    "\n",
    "    def __init__(self):\n",
    "        super(CNN, self).__init__(\n",
    "            conv1 = L.Convolution2D(1, 32, 5),\n",
    "            conv2 = L.Convolution2D(32, 64, 5),\n",
    "            conv3 = L.Convolution2D(64, 64, 5),\n",
    "            l1 = L.Linear(None, 500),\n",
    "            l2 = L.Linear(500, 99)\n",
    "        )\n",
    "\n",
    "    def __call__(self, x):\n",
    "        x = x.reshape((len(x.data), 1, 32, 32))\n",
    "\n",
    "        h = F.relu(self.conv1(x))\n",
    "        h = F.max_pooling_2d(h, 2)\n",
    "        h = F.relu(self.conv2(h))\n",
    "        h = F.max_pooling_2d(h, 2)\n",
    "        h = F.relu(self.conv3(h))\n",
    "        h = F.max_pooling_2d(h, 2)\n",
    "        h = F.dropout(F.relu(self.l1(h)))\n",
    "        y = self.l2(h)\n",
    "        return y\n",
    "\n",
    "model = L.Classifier(CNN())\n",
    "\n",
    "from chainer import optimizers\n",
    "optimizer = optimizers.Adam()\n",
    "optimizer.setup(model)"
   ]
  }
 ],
 "metadata": {
  "kernelspec": {
   "display_name": "Python 3",
   "language": "python",
   "name": "python3"
  },
  "language_info": {
   "codemirror_mode": {
    "name": "ipython",
    "version": 3
   },
   "file_extension": ".py",
   "mimetype": "text/x-python",
   "name": "python",
   "nbconvert_exporter": "python",
   "pygments_lexer": "ipython3",
   "version": "3.6.3"
  }
 },
 "nbformat": 4,
 "nbformat_minor": 2
}
